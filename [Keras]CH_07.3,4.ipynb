{
 "cells": [
  {
   "cell_type": "markdown",
   "metadata": {},
   "source": [
    "# 7.3 모델의 성능을 최대로 끌어올리기\n",
    "\n",
    "---\n",
    "\n",
    "* 작동만하는 모델을 넘어 잘 작동하는 모델 구현"
   ]
  },
  {
   "cell_type": "markdown",
   "metadata": {},
   "source": [
    "### 7.3.1 고급 구조 패턴\n",
    "\n",
    "---\n",
    "* residual connection\n",
    "* normalization\n",
    "* depthwise separable convolution\n",
    "\n",
    "이 세가지 패턴은 고성능 심층 컨브넷 생성시 유용"
   ]
  },
  {
   "cell_type": "markdown",
   "metadata": {},
   "source": [
    "#### normalization\n",
    "* 머신러닝 모델에 주입되는 샘플들을 균일하게 만드는 광범위한 방법\n",
    "* 모델의 학습, 새로운 데이터에 잘 일반화 되도록 지원\n",
    "* (데이터 - 평균) / 표준편차\n",
    " * noreamlized_data = (data-np.mean)/ np.std\n",
    "\n",
    "데이터 주입할때 뿐만 아니라 이후에도 normalization은 고려되어야 함"
   ]
  },
  {
   "cell_type": "code",
   "execution_count": null,
   "metadata": {},
   "outputs": [],
   "source": []
  },
  {
   "cell_type": "code",
   "execution_count": null,
   "metadata": {},
   "outputs": [],
   "source": []
  },
  {
   "cell_type": "code",
   "execution_count": null,
   "metadata": {},
   "outputs": [],
   "source": []
  }
 ],
 "metadata": {
  "kernelspec": {
   "display_name": "Python 3",
   "language": "python",
   "name": "python3"
  },
  "language_info": {
   "codemirror_mode": {
    "name": "ipython",
    "version": 3
   },
   "file_extension": ".py",
   "mimetype": "text/x-python",
   "name": "python",
   "nbconvert_exporter": "python",
   "pygments_lexer": "ipython3",
   "version": "3.6.8"
  }
 },
 "nbformat": 4,
 "nbformat_minor": 2
}
